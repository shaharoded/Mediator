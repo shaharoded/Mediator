{
 "cells": [
  {
   "cell_type": "code",
   "execution_count": null,
   "id": "d9c234e8",
   "metadata": {},
   "outputs": [],
   "source": [
    "# !pip install -r requirements-py37.txt\n",
    "# !pip install -e ."
   ]
  },
  {
   "cell_type": "code",
   "execution_count": 2,
   "id": "e6335a0b",
   "metadata": {},
   "outputs": [],
   "source": [
    "from pathlib import Path\n",
    "from backend.dataaccess import DataAccess\n",
    "from core.mediator import Mediator\n",
    "import pandas as pd"
   ]
  },
  {
   "cell_type": "code",
   "execution_count": 3,
   "id": "40d0fc7d",
   "metadata": {},
   "outputs": [],
   "source": [
    "# Paths\n",
    "KB_PATH = Path(\"core/knowledge-base\")\n",
    "DB_PATH = Path(\"backend/data/mediator.db\")\n",
    "CSV_PATH = Path(\"backend/data/synthetic_input_data.csv\")"
   ]
  },
  {
   "cell_type": "code",
   "execution_count": 4,
   "id": "77f412ba",
   "metadata": {},
   "outputs": [
    {
     "name": "stdout",
     "output_type": "stream",
     "text": [
      "[Info] Creating tables from DDL...\n",
      "[Info]: DB initiated successfully!\n",
      "[Info]: Total tables created: 4\n",
      "[Info]: Table 'sqlite_sequence' - Rows: 2\n",
      "[Info]: Table 'InputPatientData' - Rows: 1604\n",
      "[Info]: Table 'OutputPatientData' - Rows: 370\n",
      "[Info]: Table 'PatientQAScores' - Rows: 0\n",
      "InputPatientData: 1604 rows, 12 patients\n",
      "OutputPatientData: 370 rows, 5 patients\n",
      "PatientQAScores: 0 rows, 0 patients\n"
     ]
    }
   ],
   "source": [
    "# Initialize connection\n",
    "da = DataAccess(db_path=str(DB_PATH))\n",
    "\n",
    "# Create tables (if not exists)\n",
    "da.create_db(drop=False)  # Set drop=True to recreate tables\n",
    "\n",
    "# Check stats\n",
    "stats = da.get_table_stats()\n",
    "for table, info in stats.items():\n",
    "    print(f\"{table}: {info['rows']} rows, {info['n_patients']} patients\")"
   ]
  },
  {
   "cell_type": "code",
   "execution_count": null,
   "id": "e33b70a3",
   "metadata": {},
   "outputs": [],
   "source": [
    "# Load CSV into InputPatientData\n",
    "total_rows = da.load_csv_to_input(\n",
    "    csv_path=str(CSV_PATH),\n",
    "    if_exists='append',           # 'append' or 'replace'\n",
    "    clear_output_and_qa=False,    # Set True to clear outputs\n",
    "    yes=True                      # Auto-confirm\n",
    ")\n",
    "print(f\"Loaded {total_rows} rows\")"
   ]
  },
  {
   "cell_type": "code",
   "execution_count": 6,
   "id": "cbfdb3a7",
   "metadata": {},
   "outputs": [
    {
     "name": "stdout",
     "output_type": "stream",
     "text": [
      "\n",
      "================================================================================\n",
      "PHASE 1: Building TAK Repository\n",
      "================================================================================\n"
     ]
    },
    {
     "name": "stderr",
     "output_type": "stream",
     "text": [
      "Loading TAKs: 100%|██████████| 25/25 [00:00<00:00, 271.33file/s, Contexts: DIABETES_DIAGNOSYS_CONTEXT]          "
     ]
    },
    {
     "name": "stdout",
     "output_type": "stream",
     "text": [
      "\n",
      "[Validation] Running business-logic checks on TAK repository...\n",
      "\n",
      "================================================================================\n",
      "✅ TAK Repository Built Successfully\n",
      "================================================================================\n",
      "  Raw Concepts: 11\n",
      "  Events:       5\n",
      "  States:       4\n",
      "  Trends:       1\n",
      "  Contexts:     4\n",
      "  Patterns:     0\n",
      "  TOTAL TAKs:   25\n",
      "================================================================================\n",
      "\n",
      "✅ Loaded 25 TAKs:\n",
      "  - Raw Concepts: 11\n",
      "  - Events:       5\n",
      "  - States:       4\n",
      "  - Trends:       1\n",
      "  - Contexts:     4\n",
      "  - Patterns:     0\n",
      "\n",
      "TAK Names:\n",
      "  - ADMISSION\n",
      "  - ADMISSION_EVENT\n",
      "  - ANTIDIABETIC_DRUGS_IV_BITZUA\n",
      "  - ANTIDIABETIC_DRUGS_IV_BITZUA_CONTEXT\n",
      "  - ANTIDIABETIC_DRUGS_IV_BITZUA_STATE\n",
      "  - BASAL_BITZUA\n",
      "  - BASAL_BITZUA_CONTEXT\n",
      "  - BASAL_BITZUA_STATE\n",
      "  - BOLUS_BITZUA\n",
      "  - BOLUS_BITZUA_CONTEXT\n",
      "  - BOLUS_BITZUA_STATE\n",
      "  - DEATH\n",
      "  - DEATH_EVENT\n",
      "  - DIABETES_DIAGNOSYS\n",
      "  - DIABETES_DIAGNOSYS_CONTEXT\n",
      "  - DISGLYCEMIA_EVENT\n",
      "  - GLUCOSE_MEASURE\n",
      "  - GLUCOSE_MEASURE_STATE\n",
      "  - GLUCOSE_MEASURE_TREND\n",
      "  - HYPERGLYCEMIA\n",
      "  - HYPOGLYCEMIA\n",
      "  - MEAL\n",
      "  - MEAL_EVENT\n",
      "  - RELEASE\n",
      "  - RELEASE_EVENT\n"
     ]
    },
    {
     "name": "stderr",
     "output_type": "stream",
     "text": [
      "\n"
     ]
    }
   ],
   "source": [
    "# Initialize mediator\n",
    "mediator = Mediator(knowledge_base_path=KB_PATH, data_access=da)\n",
    "\n",
    "# Build TAK repository\n",
    "repo = mediator.build_repository()\n",
    "\n",
    "print(f\"✅ Loaded {len(repo.taks)} TAKs:\")\n",
    "print(f\"  - Raw Concepts: {len(mediator.raw_concepts)}\")\n",
    "print(f\"  - Events:       {len(mediator.events)}\")\n",
    "print(f\"  - States:       {len(mediator.states)}\")\n",
    "print(f\"  - Trends:       {len(mediator.trends)}\")\n",
    "print(f\"  - Contexts:     {len(mediator.contexts)}\")\n",
    "print(f\"  - Patterns:     {len(mediator.patterns)}\")\n",
    "\n",
    "# List all TAK names\n",
    "print(\"\\nTAK Names:\")\n",
    "for tak_name in sorted(repo.taks.keys()):\n",
    "    print(f\"  - {tak_name}\")"
   ]
  },
  {
   "cell_type": "code",
   "execution_count": 7,
   "id": "d06621fa",
   "metadata": {},
   "outputs": [
    {
     "name": "stdout",
     "output_type": "stream",
     "text": [
      "\n",
      "================================================================================\n",
      "PHASE 1: Building TAK Repository\n",
      "================================================================================\n"
     ]
    },
    {
     "name": "stderr",
     "output_type": "stream",
     "text": [
      "Loading TAKs: 100%|██████████| 25/25 [00:00<00:00, 203.50file/s, Contexts: DIABETES_DIAGNOSYS_CONTEXT]          \n",
      "Loading TAKs: 100%|██████████| 25/25 [00:00<00:00, 203.50file/s, Contexts: DIABETES_DIAGNOSYS_CONTEXT]\n"
     ]
    },
    {
     "name": "stdout",
     "output_type": "stream",
     "text": [
      "\n",
      "[Validation] Running business-logic checks on TAK repository...\n",
      "\n",
      "================================================================================\n",
      "✅ TAK Repository Built Successfully\n",
      "================================================================================\n",
      "  Raw Concepts: 22\n",
      "  Events:       10\n",
      "  States:       8\n",
      "  Trends:       2\n",
      "  Contexts:     8\n",
      "  Patterns:     0\n",
      "  TOTAL TAKs:   25\n",
      "================================================================================\n",
      "\n",
      "\n",
      "================================================================================\n",
      "PHASE 2: Processing 3 Patients (max_concurrent=4)\n",
      "         Patient Subset: [1000, 1001, 1002]\n",
      "================================================================================\n",
      "\n"
     ]
    },
    {
     "name": "stderr",
     "output_type": "stream",
     "text": [
      "Processing patients: 100%|██████████| 3/3 [00:04<00:00,  1.38s/patient]"
     ]
    },
    {
     "name": "stdout",
     "output_type": "stream",
     "text": [
      "\n",
      "================================================================================\n",
      "✅ Patient Processing Complete\n",
      "================================================================================\n",
      "  Patients processed: 3\n",
      "  Total rows written: 175\n",
      "  Errors:             0\n",
      "================================================================================\n",
      "\n",
      "✅ Patient 1000: 42 output rows\n",
      "✅ Patient 1001: 94 output rows\n",
      "✅ Patient 1002: 39 output rows\n"
     ]
    },
    {
     "name": "stderr",
     "output_type": "stream",
     "text": [
      "\n"
     ]
    }
   ],
   "source": [
    "# Process specific patients (Jupyter-compatible)\n",
    "patient_ids = [1000, 1001, 1002]\n",
    "patient_stats = await mediator.run_async(\n",
    "    max_concurrent=4,\n",
    "    patient_subset=patient_ids\n",
    ")\n",
    "\n",
    "# Print results\n",
    "for pid, stats in patient_stats.items():\n",
    "    if \"error\" in stats:\n",
    "        print(f\"❌ Patient {pid}: {stats['error']}\")\n",
    "    else:\n",
    "        total = sum(v for k, v in stats.items() if isinstance(v, int))\n",
    "        print(f\"✅ Patient {pid}: {total} output rows\")"
   ]
  },
  {
   "cell_type": "code",
   "execution_count": 8,
   "id": "af09849e",
   "metadata": {},
   "outputs": [
    {
     "data": {
      "text/html": [
       "<div>\n",
       "<style scoped>\n",
       "    .dataframe tbody tr th:only-of-type {\n",
       "        vertical-align: middle;\n",
       "    }\n",
       "\n",
       "    .dataframe tbody tr th {\n",
       "        vertical-align: top;\n",
       "    }\n",
       "\n",
       "    .dataframe thead th {\n",
       "        text-align: right;\n",
       "    }\n",
       "</style>\n",
       "<table border=\"1\" class=\"dataframe\">\n",
       "  <thead>\n",
       "    <tr style=\"text-align: right;\">\n",
       "      <th></th>\n",
       "      <th>PatientId</th>\n",
       "      <th>ConceptName</th>\n",
       "      <th>StartDateTime</th>\n",
       "      <th>EndDateTime</th>\n",
       "      <th>Value</th>\n",
       "    </tr>\n",
       "  </thead>\n",
       "  <tbody>\n",
       "    <tr>\n",
       "      <th>0</th>\n",
       "      <td>1000</td>\n",
       "      <td>BASAL_BITZUA_STATE</td>\n",
       "      <td>2025-01-21 21:00:00</td>\n",
       "      <td>2025-01-22 21:00:00</td>\n",
       "      <td>Medium</td>\n",
       "    </tr>\n",
       "    <tr>\n",
       "      <th>1</th>\n",
       "      <td>1000</td>\n",
       "      <td>BASAL_BITZUA_STATE</td>\n",
       "      <td>2025-01-22 21:00:00</td>\n",
       "      <td>2025-01-23 21:00:00</td>\n",
       "      <td>Low</td>\n",
       "    </tr>\n",
       "    <tr>\n",
       "      <th>2</th>\n",
       "      <td>1000</td>\n",
       "      <td>BASAL_BITZUA_STATE</td>\n",
       "      <td>2025-01-23 21:00:00</td>\n",
       "      <td>2025-01-24 13:59:59</td>\n",
       "      <td>SubCutaneous Low</td>\n",
       "    </tr>\n",
       "    <tr>\n",
       "      <th>3</th>\n",
       "      <td>1000</td>\n",
       "      <td>BOLUS_BITZUA_STATE</td>\n",
       "      <td>2025-01-21 13:06:00</td>\n",
       "      <td>2025-01-21 19:12:00</td>\n",
       "      <td>SubCutaneous Low</td>\n",
       "    </tr>\n",
       "    <tr>\n",
       "      <th>4</th>\n",
       "      <td>1000</td>\n",
       "      <td>BOLUS_BITZUA_STATE</td>\n",
       "      <td>2025-01-21 19:12:00</td>\n",
       "      <td>2025-01-22 03:12:00</td>\n",
       "      <td>SubCutaneous Medium</td>\n",
       "    </tr>\n",
       "    <tr>\n",
       "      <th>...</th>\n",
       "      <td>...</td>\n",
       "      <td>...</td>\n",
       "      <td>...</td>\n",
       "      <td>...</td>\n",
       "      <td>...</td>\n",
       "    </tr>\n",
       "    <tr>\n",
       "      <th>186</th>\n",
       "      <td>1002</td>\n",
       "      <td>BOLUS_BITZUA_CONTEXT</td>\n",
       "      <td>2025-01-23 19:12:00</td>\n",
       "      <td>2025-01-24 03:12:00</td>\n",
       "      <td>Medium</td>\n",
       "    </tr>\n",
       "    <tr>\n",
       "      <th>187</th>\n",
       "      <td>1002</td>\n",
       "      <td>BOLUS_BITZUA_CONTEXT</td>\n",
       "      <td>2025-01-24 07:56:00</td>\n",
       "      <td>2025-01-24 15:56:00</td>\n",
       "      <td>Medium</td>\n",
       "    </tr>\n",
       "    <tr>\n",
       "      <th>188</th>\n",
       "      <td>1002</td>\n",
       "      <td>BOLUS_BITZUA_CONTEXT</td>\n",
       "      <td>2025-01-25 08:15:00</td>\n",
       "      <td>2025-01-25 12:15:00</td>\n",
       "      <td>Low</td>\n",
       "    </tr>\n",
       "    <tr>\n",
       "      <th>189</th>\n",
       "      <td>1002</td>\n",
       "      <td>BOLUS_BITZUA_CONTEXT</td>\n",
       "      <td>2025-01-25 13:07:00</td>\n",
       "      <td>2025-01-25 13:59:59</td>\n",
       "      <td>Medium</td>\n",
       "    </tr>\n",
       "    <tr>\n",
       "      <th>190</th>\n",
       "      <td>1002</td>\n",
       "      <td>DIABETES_DIAGNOSYS_CONTEXT</td>\n",
       "      <td>2025-01-18 10:00:01</td>\n",
       "      <td>2025-01-25 13:59:59</td>\n",
       "      <td>True</td>\n",
       "    </tr>\n",
       "  </tbody>\n",
       "</table>\n",
       "<p>191 rows × 5 columns</p>\n",
       "</div>"
      ],
      "text/plain": [
       "     PatientId                 ConceptName        StartDateTime  \\\n",
       "0         1000          BASAL_BITZUA_STATE  2025-01-21 21:00:00   \n",
       "1         1000          BASAL_BITZUA_STATE  2025-01-22 21:00:00   \n",
       "2         1000          BASAL_BITZUA_STATE  2025-01-23 21:00:00   \n",
       "3         1000          BOLUS_BITZUA_STATE  2025-01-21 13:06:00   \n",
       "4         1000          BOLUS_BITZUA_STATE  2025-01-21 19:12:00   \n",
       "..         ...                         ...                  ...   \n",
       "186       1002        BOLUS_BITZUA_CONTEXT  2025-01-23 19:12:00   \n",
       "187       1002        BOLUS_BITZUA_CONTEXT  2025-01-24 07:56:00   \n",
       "188       1002        BOLUS_BITZUA_CONTEXT  2025-01-25 08:15:00   \n",
       "189       1002        BOLUS_BITZUA_CONTEXT  2025-01-25 13:07:00   \n",
       "190       1002  DIABETES_DIAGNOSYS_CONTEXT  2025-01-18 10:00:01   \n",
       "\n",
       "             EndDateTime                Value  \n",
       "0    2025-01-22 21:00:00               Medium  \n",
       "1    2025-01-23 21:00:00                  Low  \n",
       "2    2025-01-24 13:59:59     SubCutaneous Low  \n",
       "3    2025-01-21 19:12:00     SubCutaneous Low  \n",
       "4    2025-01-22 03:12:00  SubCutaneous Medium  \n",
       "..                   ...                  ...  \n",
       "186  2025-01-24 03:12:00               Medium  \n",
       "187  2025-01-24 15:56:00               Medium  \n",
       "188  2025-01-25 12:15:00                  Low  \n",
       "189  2025-01-25 13:59:59               Medium  \n",
       "190  2025-01-25 13:59:59                 True  \n",
       "\n",
       "[191 rows x 5 columns]"
      ]
     },
     "execution_count": 8,
     "metadata": {},
     "output_type": "execute_result"
    }
   ],
   "source": [
    "# Query OutputPatientData\n",
    "query = \"\"\"\n",
    "SELECT PatientId, ConceptName, StartDateTime, EndDateTime, Value\n",
    "FROM OutputPatientData\n",
    "WHERE PatientId IN (1000, 1001, 1002)\n",
    "\"\"\"\n",
    "df_results = pd.read_sql_query(query, da.conn)\n",
    "df_results"
   ]
  },
  {
   "cell_type": "code",
   "execution_count": 9,
   "id": "c35f5c5e",
   "metadata": {},
   "outputs": [
    {
     "name": "stdout",
     "output_type": "stream",
     "text": [
      "Rows with NULL Value: 0\n"
     ]
    }
   ],
   "source": [
    "# Count rows with null Value\n",
    "null_count = pd.read_sql_query(\n",
    "    \"SELECT COUNT(*) AS NullRows FROM OutputPatientData WHERE Value IS NULL\", da.conn\n",
    ")\n",
    "print(f\"Rows with NULL Value: {null_count.iloc[0]['NullRows']}\")"
   ]
  },
  {
   "cell_type": "code",
   "execution_count": 10,
   "id": "7b35732d",
   "metadata": {},
   "outputs": [
    {
     "name": "stdout",
     "output_type": "stream",
     "text": [
      "Rows with tuple-like Value: 0\n"
     ]
    },
    {
     "data": {
      "text/html": [
       "<div>\n",
       "<style scoped>\n",
       "    .dataframe tbody tr th:only-of-type {\n",
       "        vertical-align: middle;\n",
       "    }\n",
       "\n",
       "    .dataframe tbody tr th {\n",
       "        vertical-align: top;\n",
       "    }\n",
       "\n",
       "    .dataframe thead th {\n",
       "        text-align: right;\n",
       "    }\n",
       "</style>\n",
       "<table border=\"1\" class=\"dataframe\">\n",
       "  <thead>\n",
       "    <tr style=\"text-align: right;\">\n",
       "      <th></th>\n",
       "      <th>PatientId</th>\n",
       "      <th>ConceptName</th>\n",
       "      <th>StartDateTime</th>\n",
       "      <th>EndDateTime</th>\n",
       "      <th>Value</th>\n",
       "    </tr>\n",
       "  </thead>\n",
       "  <tbody>\n",
       "  </tbody>\n",
       "</table>\n",
       "</div>"
      ],
      "text/plain": [
       "Empty DataFrame\n",
       "Columns: [PatientId, ConceptName, StartDateTime, EndDateTime, Value]\n",
       "Index: []"
      ]
     },
     "metadata": {},
     "output_type": "display_data"
    }
   ],
   "source": [
    "# Find rows where Value looks like a tuple (starts with '(')\n",
    "tuple_like = pd.read_sql_query(\n",
    "    \"SELECT PatientId, ConceptName, StartDateTime, EndDateTime, Value FROM OutputPatientData WHERE Value LIKE '(%'\", da.conn\n",
    ")\n",
    "print(f\"Rows with tuple-like Value: {len(tuple_like)}\")\n",
    "display(tuple_like.head(50))"
   ]
  }
 ],
 "metadata": {
  "kernelspec": {
   "display_name": ".venv-py37",
   "language": "python",
   "name": "python3"
  },
  "language_info": {
   "codemirror_mode": {
    "name": "ipython",
    "version": 3
   },
   "file_extension": ".py",
   "mimetype": "text/x-python",
   "name": "python",
   "nbconvert_exporter": "python",
   "pygments_lexer": "ipython3",
   "version": "3.7.9"
  }
 },
 "nbformat": 4,
 "nbformat_minor": 5
}
